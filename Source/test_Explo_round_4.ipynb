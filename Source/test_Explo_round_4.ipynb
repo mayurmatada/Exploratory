import unittest
import pandas as pd
import numpy as np
from Source.Explo_round_4 import clean_data, wcm_1993_validate_optimizer, optimize_wcm_1993_sigma_0_ls, wcm_1993_sigma_0

# Test file: Source/test_Explo_round_4.ipynb


class TestExploRound4(unittest.TestCase):

    def setUp(self):
        # Load the dataset
        self.data = pd.read_csv(r"C:\Users\Mayur\Documents\College\4th sem\Exploratory\Data\Masked_Sentinel1_MODIS_SM_LAI_Freq_Angle_11km.csv")
        self.trim_number = 4

    def test_data_loading(self):
        # Test if the dataset is loaded correctly
        self.assertFalse(self.data.empty, "Dataset is empty after loading.")

    def test_clean_data(self):
        # Test the clean_data function
        data_clean = clean_data(self.data.copy())
        self.assertFalse(data_clean.empty, "Dataset is empty after cleaning.")

    def test_data_trimming(self):
        # Test the trimming logic
        data_clean = clean_data(self.data.copy())
        mean_vv = data_clean['VV'].mean()
        std_vv = data_clean['VV'].std()
        data_trimmed = data_clean[(data_clean['VV'] >= mean_vv - self.trim_number * std_vv) & 
                                  (data_clean['VV'] <= mean_vv + self.trim_number * std_vv)]
        self.assertFalse(data_trimmed.empty, "Dataset is empty after trimming VV.")

        mean_vh = data_clean['VH'].mean()
        std_vh = data_clean['VH'].std()
        data_trimmed = data_trimmed[(data_trimmed['VH'] >= mean_vh - self.trim_number * std_vh) & 
                                    (data_trimmed['VH'] <= mean_vh + self.trim_number * std_vh)]
        self.assertFalse(data_trimmed.empty, "Dataset is empty after trimming VH.")

    def test_data_segmentation(self):
        # Test the segmentation logic
        data_clean = clean_data(self.data.copy())
        data_clean['date'] = pd.to_datetime(data_clean['date'])
        start_month_day = '05-01'
        end_month_day = '06-01'
        data_segmented = data_clean[
            (data_clean['date'].dt.strftime('%m-%d') >= start_month_day) &
            (data_clean['date'].dt.strftime('%m-%d') <= end_month_day) &
            (data_clean['date'].dt.year >= 2015) &
            (data_clean['date'].dt.year <= 2023)
        ]
        self.assertFalse(data_segmented.empty, "Dataset is empty after segmentation.")

    def test_model_training(self):
        # Test the model training logic
        data_clean = clean_data(self.data.copy())
        data_clean['date'] = pd.to_datetime(data_clean['date'])
        start_month_day = '05-01'
        end_month_day = '06-01'
        data_segmented = data_clean[
            (data_clean['date'].dt.strftime('%m-%d') >= start_month_day) &
            (data_clean['date'].dt.strftime('%m-%d') <= end_month_day) &
            (data_clean['date'].dt.year >= 2015) &
            (data_clean['date'].dt.year <= 2023)
        ]

        VV_dB = data_segmented['VV'].values
        VH_dB = data_segmented['VH'].values
        SM = data_segmented['SoilMoisture'].values
        LAI = data_segmented['LAI'].values
        theta_deg = data_segmented['IncidenceAngle'].values

        # Ensure arrays are not empty
        self.assertGreater(len(VV_dB), 0, "VV_dB array is empty.")
        self.assertGreater(len(VH_dB), 0, "VH_dB array is empty.")
        self.assertGreater(len(SM), 0, "SM array is empty.")
        self.assertGreater(len(LAI), 0, "LAI array is empty.")
        self.assertGreater(len(theta_deg), 0, "theta_deg array is empty.")

        # Test model training
        wcm_1993_params_vv, wcm_1993_params_vh = wcm_1993_validate_optimizer(optimize_wcm_1993_sigma_0_ls)
        predicted_VV = wcm_1993_sigma_0(*wcm_1993_params_vv, LAI, SM, theta_deg)
        predicted_VH = wcm_1993_sigma_0(*wcm_1993_params_vh, LAI, SM, theta_deg)

        self.assertEqual(len(predicted_VV), len(VV_dB), "Predicted VV length mismatch.")
        self.assertEqual(len(predicted_VH), len(VH_dB), "Predicted VH length mismatch.")

if __name__ == '__main__':
    unittest.main()