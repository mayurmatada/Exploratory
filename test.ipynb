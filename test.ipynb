{
 "cells": [
  {
   "cell_type": "code",
   "execution_count": 7,
   "id": "db628164",
   "metadata": {},
   "outputs": [],
   "source": [
    "import pandas as pd"
   ]
  },
  {
   "cell_type": "code",
   "execution_count": 8,
   "id": "d8a5a094",
   "metadata": {},
   "outputs": [],
   "source": [
    "synthetic = pd.read_csv(r\"Data\\Synth.csv\")\n",
    "data = pd.read_csv(r\"Data/Masked_Sentinel1_MODIS_SM_LAI_Freq_Angle_11km.csv\")"
   ]
  },
  {
   "cell_type": "code",
   "execution_count": 10,
   "id": "2f5415de",
   "metadata": {},
   "outputs": [],
   "source": [
    "import pandas as pd\n",
    "import numpy as np\n",
    "import random\n",
    "import string\n",
    "\n",
    "# Load the data\n",
    "synthetic = pd.read_csv(r\"Data\\Synth.csv\")\n",
    "data = pd.read_csv(r\"Data/Masked_Sentinel1_MODIS_SM_LAI_Freq_Angle_11km.csv\")\n",
    "\n",
    "# Generate random dates within the range of the 'data' DataFrame\n",
    "date_range = pd.to_datetime(data['date'])\n",
    "start_date, end_date = date_range.min(), date_range.max()\n",
    "synthetic['date'] = pd.to_datetime(np.random.choice(pd.date_range(start_date, end_date), size=len(synthetic)))\n",
    "\n",
    "# Add '.geo' and 'frequency' columns (assuming they are single values in 'data')\n",
    "synthetic['.geo'] = data['.geo'].iloc[0]\n",
    "synthetic['Frequency_GHz'] = data['Frequency_GHz'].iloc[0]\n",
    "\n",
    "# Generate 'system:index' column\n",
    "\n",
    "\n",
    "def generate_system_index(date):\n",
    "    date_str = date.strftime('%Y%m%dT%H%M%S')\n",
    "    random_fingerprint = ''.join(random.choices(string.ascii_uppercase + string.digits, k=16))\n",
    "    return f\"S1A_IW_GRDH_1SDV_{date_str}_{date_str}_{random_fingerprint[:6]}_{random_fingerprint[6:12]}_{random_fingerprint[12:]}\"\n",
    "\n",
    "\n",
    "synthetic['system:index'] = synthetic['date'].apply(generate_system_index)\n",
    "\n",
    "# Merge the dataframes\n",
    "merged_df = pd.concat([data, synthetic], ignore_index=True)\n",
    "\n",
    "# Save the merged dataframe to a new CSV file\n",
    "merged_df.to_csv(r\"Data\\Merged_Data.csv\", index=False)"
   ]
  }
 ],
 "metadata": {
  "kernelspec": {
   "display_name": ".venv",
   "language": "python",
   "name": "python3"
  },
  "language_info": {
   "codemirror_mode": {
    "name": "ipython",
    "version": 3
   },
   "file_extension": ".py",
   "mimetype": "text/x-python",
   "name": "python",
   "nbconvert_exporter": "python",
   "pygments_lexer": "ipython3",
   "version": "3.13.2"
  }
 },
 "nbformat": 4,
 "nbformat_minor": 5
}
